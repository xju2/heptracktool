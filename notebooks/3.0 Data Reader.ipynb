{
 "cells": [
  {
   "cell_type": "code",
   "execution_count": 1,
   "id": "4a3285b2",
   "metadata": {},
   "outputs": [],
   "source": [
    "%load_ext autoreload\n",
    "%autoreload 2"
   ]
  },
  {
   "cell_type": "code",
   "execution_count": 2,
   "id": "7150f158",
   "metadata": {},
   "outputs": [],
   "source": [
    "from heptracktool.io.trackml import TrackMLReader"
   ]
  },
  {
   "cell_type": "code",
   "execution_count": 3,
   "id": "5a93e790",
   "metadata": {},
   "outputs": [
    {
     "name": "stdout",
     "output_type": "stream",
     "text": [
      "total 100 events in directory: /global/cfs/cdirs/m3443/data/trackml-codalab/train_100\n",
      "Loading detector...\n",
      "Detector loaded.\n"
     ]
    }
   ],
   "source": [
    "file_path = \"/global/cfs/cdirs/m3443/data/trackml-codalab/train_100\"\n",
    "reader = TrackMLReader(file_path)"
   ]
  },
  {
   "cell_type": "code",
   "execution_count": 11,
   "id": "27343cee",
   "metadata": {},
   "outputs": [],
   "source": [
    "data = reader.read(0)"
   ]
  },
  {
   "cell_type": "code",
   "execution_count": 12,
   "id": "9626c96e",
   "metadata": {},
   "outputs": [
    {
     "data": {
      "text/plain": [
       "Index(['index', 'hit_id', 'x', 'y', 'z', 'volume_id', 'layer_id', 'module_id',\n",
       "       'r', 'phi', 'theta', 'eta', 'particle_id', 'vx', 'vy', 'vz', 'pt',\n",
       "       'weight', 'nhits', 'is_pixel', 'umid', 'geometry_id', 'cell_count',\n",
       "       'cell_val', 'leta', 'lphi', 'lx', 'ly', 'lz', 'geta', 'gphi', 'R'],\n",
       "      dtype='object')"
      ]
     },
     "execution_count": 12,
     "metadata": {},
     "output_type": "execute_result"
    }
   ],
   "source": [
    "data.hits.columns"
   ]
  },
  {
   "cell_type": "code",
   "execution_count": 13,
   "id": "5f0ebf4a",
   "metadata": {},
   "outputs": [
    {
     "data": {
      "text/plain": [
       "Index(['particle_id', 'particle_type', 'vx', 'vy', 'vz', 'px', 'py', 'pz', 'q',\n",
       "       'nhits'],\n",
       "      dtype='object')"
      ]
     },
     "execution_count": 13,
     "metadata": {},
     "output_type": "execute_result"
    }
   ],
   "source": [
    "data.particles.columns"
   ]
  },
  {
   "cell_type": "code",
   "execution_count": 14,
   "id": "91705828",
   "metadata": {},
   "outputs": [
    {
     "data": {
      "text/plain": [
       "Index(['hit_id', 'particle_id', 'tx', 'ty', 'tz', 'tpx', 'tpy', 'tpz',\n",
       "       'weight', 'particle_type', 'vx', 'vy', 'vz', 'px', 'py', 'pz', 'q',\n",
       "       'nhits', 'pt'],\n",
       "      dtype='object')"
      ]
     },
     "execution_count": 14,
     "metadata": {},
     "output_type": "execute_result"
    }
   ],
   "source": [
    "data.truth.columns"
   ]
  },
  {
   "cell_type": "code",
   "execution_count": 15,
   "id": "3a20ad9b",
   "metadata": {},
   "outputs": [
    {
     "data": {
      "text/plain": [
       "(2, 6580764)"
      ]
     },
     "execution_count": 15,
     "metadata": {},
     "output_type": "execute_result"
    }
   ],
   "source": [
    "data.true_edges.shape"
   ]
  },
  {
   "cell_type": "code",
   "execution_count": 16,
   "id": "a7db7754",
   "metadata": {},
   "outputs": [],
   "source": [
    "from fastparquet import ParquetFile"
   ]
  },
  {
   "cell_type": "code",
   "execution_count": 17,
   "id": "d80eee22",
   "metadata": {},
   "outputs": [
    {
     "data": {
      "text/html": [
       "<div>\n",
       "<style scoped>\n",
       "    .dataframe tbody tr th:only-of-type {\n",
       "        vertical-align: middle;\n",
       "    }\n",
       "\n",
       "    .dataframe tbody tr th {\n",
       "        vertical-align: top;\n",
       "    }\n",
       "\n",
       "    .dataframe thead th {\n",
       "        text-align: right;\n",
       "    }\n",
       "</style>\n",
       "<table border=\"1\" class=\"dataframe\">\n",
       "  <thead>\n",
       "    <tr style=\"text-align: right;\">\n",
       "      <th></th>\n",
       "      <th>particle_id</th>\n",
       "      <th>particle_type</th>\n",
       "      <th>vx</th>\n",
       "      <th>vy</th>\n",
       "      <th>vz</th>\n",
       "      <th>px</th>\n",
       "      <th>py</th>\n",
       "      <th>pz</th>\n",
       "      <th>q</th>\n",
       "      <th>nhits</th>\n",
       "    </tr>\n",
       "    <tr>\n",
       "      <th>index</th>\n",
       "      <th></th>\n",
       "      <th></th>\n",
       "      <th></th>\n",
       "      <th></th>\n",
       "      <th></th>\n",
       "      <th></th>\n",
       "      <th></th>\n",
       "      <th></th>\n",
       "      <th></th>\n",
       "      <th></th>\n",
       "    </tr>\n",
       "  </thead>\n",
       "  <tbody>\n",
       "    <tr>\n",
       "      <th>0</th>\n",
       "      <td>4503668346847232</td>\n",
       "      <td>-211</td>\n",
       "      <td>0.040512</td>\n",
       "      <td>0.027287</td>\n",
       "      <td>6.03927</td>\n",
       "      <td>-0.505992</td>\n",
       "      <td>-1.595230</td>\n",
       "      <td>1.72873</td>\n",
       "      <td>-1</td>\n",
       "      <td>11</td>\n",
       "    </tr>\n",
       "    <tr>\n",
       "      <th>1</th>\n",
       "      <td>4503805785800704</td>\n",
       "      <td>321</td>\n",
       "      <td>0.040512</td>\n",
       "      <td>0.027287</td>\n",
       "      <td>6.03927</td>\n",
       "      <td>30.096700</td>\n",
       "      <td>8.197130</td>\n",
       "      <td>109.32600</td>\n",
       "      <td>1</td>\n",
       "      <td>10</td>\n",
       "    </tr>\n",
       "    <tr>\n",
       "      <th>2</th>\n",
       "      <td>4503874505277440</td>\n",
       "      <td>211</td>\n",
       "      <td>0.040512</td>\n",
       "      <td>0.027287</td>\n",
       "      <td>6.03927</td>\n",
       "      <td>24.123200</td>\n",
       "      <td>6.502430</td>\n",
       "      <td>88.15750</td>\n",
       "      <td>1</td>\n",
       "      <td>10</td>\n",
       "    </tr>\n",
       "    <tr>\n",
       "      <th>3</th>\n",
       "      <td>4503943224754176</td>\n",
       "      <td>-211</td>\n",
       "      <td>0.040512</td>\n",
       "      <td>0.027287</td>\n",
       "      <td>6.03927</td>\n",
       "      <td>0.634312</td>\n",
       "      <td>-0.058675</td>\n",
       "      <td>2.10242</td>\n",
       "      <td>-1</td>\n",
       "      <td>12</td>\n",
       "    </tr>\n",
       "    <tr>\n",
       "      <th>4</th>\n",
       "      <td>4504011944230912</td>\n",
       "      <td>321</td>\n",
       "      <td>0.040512</td>\n",
       "      <td>0.027287</td>\n",
       "      <td>6.03927</td>\n",
       "      <td>2.902970</td>\n",
       "      <td>1.100720</td>\n",
       "      <td>9.26009</td>\n",
       "      <td>1</td>\n",
       "      <td>13</td>\n",
       "    </tr>\n",
       "  </tbody>\n",
       "</table>\n",
       "</div>"
      ],
      "text/plain": [
       "            particle_id  particle_type        vx        vy       vz  \\\n",
       "index                                                                 \n",
       "0      4503668346847232           -211  0.040512  0.027287  6.03927   \n",
       "1      4503805785800704            321  0.040512  0.027287  6.03927   \n",
       "2      4503874505277440            211  0.040512  0.027287  6.03927   \n",
       "3      4503943224754176           -211  0.040512  0.027287  6.03927   \n",
       "4      4504011944230912            321  0.040512  0.027287  6.03927   \n",
       "\n",
       "              px        py         pz  q  nhits  \n",
       "index                                            \n",
       "0      -0.505992 -1.595230    1.72873 -1     11  \n",
       "1      30.096700  8.197130  109.32600  1     10  \n",
       "2      24.123200  6.502430   88.15750  1     10  \n",
       "3       0.634312 -0.058675    2.10242 -1     12  \n",
       "4       2.902970  1.100720    9.26009  1     13  "
      ]
     },
     "execution_count": 17,
     "metadata": {},
     "output_type": "execute_result"
    }
   ],
   "source": [
    "pf = ParquetFile(\"/global/cfs/cdirs/m3443/usr/xju/data/trackml/train_100_parquet/particles/particles_00000.parquet\")\n",
    "df = pf.to_pandas()\n",
    "df.head()"
   ]
  },
  {
   "cell_type": "code",
   "execution_count": 19,
   "id": "df6e92e0",
   "metadata": {},
   "outputs": [
    {
     "data": {
      "text/plain": [
       "0    0.315447\n",
       "1    0.339432\n",
       "2    0.106095\n",
       "3    0.416675\n",
       "4    0.143930\n",
       "Name: pt, dtype: float64"
      ]
     },
     "execution_count": 19,
     "metadata": {},
     "output_type": "execute_result"
    }
   ],
   "source": [
    "data.hits.pt.head()"
   ]
  },
  {
   "cell_type": "code",
   "execution_count": null,
   "id": "3bc0d36e",
   "metadata": {},
   "outputs": [],
   "source": []
  }
 ],
 "metadata": {
  "kernelspec": {
   "display_name": "heptracktool-py3.11",
   "language": "python",
   "name": "python3"
  },
  "language_info": {
   "codemirror_mode": {
    "name": "ipython",
    "version": 3
   },
   "file_extension": ".py",
   "mimetype": "text/x-python",
   "name": "python",
   "nbconvert_exporter": "python",
   "pygments_lexer": "ipython3",
   "version": "3.11.7"
  }
 },
 "nbformat": 4,
 "nbformat_minor": 5
}
