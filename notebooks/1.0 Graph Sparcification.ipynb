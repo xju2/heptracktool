{
 "cells": [
  {
   "cell_type": "code",
   "execution_count": 1,
   "metadata": {},
   "outputs": [],
   "source": [
    "%load_ext autoreload\n",
    "%autoreload 2"
   ]
  },
  {
   "cell_type": "code",
   "execution_count": 2,
   "metadata": {},
   "outputs": [
    {
     "name": "stderr",
     "output_type": "stream",
     "text": [
      "\u001b[32m2025-03-10 23:46:22.504\u001b[0m | \u001b[33m\u001b[1mWARNING \u001b[0m | \u001b[36mheptracktool.tools.utils_graph\u001b[0m:\u001b[36m<module>\u001b[0m:\u001b[36m15\u001b[0m - \u001b[33m\u001b[1mFRNN is not available, install it at https://github.com/murnanedaniel/FRNN. Using PyG radius instead.\u001b[0m\n",
      "\u001b[32m2025-03-10 23:46:22.507\u001b[0m | \u001b[33m\u001b[1mWARNING \u001b[0m | \u001b[36mheptracktool.tools.utils_graph\u001b[0m:\u001b[36m<module>\u001b[0m:\u001b[36m27\u001b[0m - \u001b[33m\u001b[1mFAISS is not available, install it at \"conda install faiss-gpu -c pytorch\" or                     \"pip install faiss-gpu\". Using PyG radius instead.\u001b[0m\n"
     ]
    }
   ],
   "source": [
    "from heptracktool.tools.sparcification_study import SparcifyStudy\n",
    "from heptracktool.io.pyg_data_reader import TrackGraphDataReader"
   ]
  },
  {
   "cell_type": "code",
   "execution_count": 3,
   "metadata": {},
   "outputs": [
    {
     "name": "stdout",
     "output_type": "stream",
     "text": [
      "valset: Total 1 events in directory: /global/cfs/cdirs/m3443/usr/xju/graph_sparcification/chep2024_data_feature_store\n"
     ]
    }
   ],
   "source": [
    "file_path = \"/global/cfs/cdirs/m3443/usr/xju/graph_sparcification/chep2024_data_feature_store\"\n",
    "reader = TrackGraphDataReader(file_path, name=\"valset\")"
   ]
  },
  {
   "cell_type": "code",
   "execution_count": 18,
   "metadata": {},
   "outputs": [
    {
     "name": "stderr",
     "output_type": "stream",
     "text": [
      "\u001b[32m2025-03-10 23:55:28.643\u001b[0m | \u001b[1mINFO    \u001b[0m | \u001b[36mheptracktool.tools.sparcification_study\u001b[0m:\u001b[36m__init__\u001b[0m:\u001b[36m38\u001b[0m - \u001b[1m# of node features: 37\u001b[0m\n",
      "\u001b[32m2025-03-10 23:55:28.643\u001b[0m | \u001b[1mINFO    \u001b[0m | \u001b[36mheptracktool.tools.sparcification_study\u001b[0m:\u001b[36m__init__\u001b[0m:\u001b[36m39\u001b[0m - \u001b[1mNode features: ['hit_r', 'hit_phi', 'hit_z', 'hit_cluster_x_1', 'hit_cluster_y_1', 'hit_cluster_z_1', 'hit_cluster_x_2', 'hit_cluster_y_2', 'hit_cluster_z_2', 'hit_count_1', 'hit_charge_count_1', 'hit_loc_eta_1', 'hit_loc_phi_1', 'hit_localDir0_1', 'hit_localDir1_1', 'hit_localDir2_1', 'hit_lengthDir0_1', 'hit_lengthDir1_1', 'hit_lengthDir2_1', 'hit_glob_eta_1', 'hit_glob_phi_1', 'hit_eta_angle_1', 'hit_phi_angle_1', 'hit_count_2', 'hit_charge_count_2', 'hit_loc_eta_2', 'hit_loc_phi_2', 'hit_localDir0_2', 'hit_localDir1_2', 'hit_localDir2_2', 'hit_lengthDir0_2', 'hit_lengthDir1_2', 'hit_lengthDir2_2', 'hit_glob_eta_2', 'hit_glob_phi_2', 'hit_eta_angle_2', 'hit_phi_angle_2']\u001b[0m\n",
      "\u001b[32m2025-03-10 23:55:28.644\u001b[0m | \u001b[1mINFO    \u001b[0m | \u001b[36mheptracktool.tools.sparcification_study\u001b[0m:\u001b[36m__init__\u001b[0m:\u001b[36m40\u001b[0m - \u001b[1mNode scales: [1000, 3.14, 1000, 1000, 1000, 1000, 1000, 1000, 1000, 1, 1, 3.14, 3.14, 1, 1, 1, 1, 1, 1, 3.14, 3.14, 3.14, 3.14, 1, 1, 3.14, 3.14, 1, 1, 1, 1, 1, 1, 3.14, 3.14, 3.14, 3.14]\u001b[0m\n",
      "\u001b[32m2025-03-10 23:55:28.644\u001b[0m | \u001b[1mINFO    \u001b[0m | \u001b[36mheptracktool.tools.sparcification_study\u001b[0m:\u001b[36m__init__\u001b[0m:\u001b[36m41\u001b[0m - \u001b[1mKNN neighbours: 1000\u001b[0m\n",
      "\u001b[32m2025-03-10 23:55:28.644\u001b[0m | \u001b[1mINFO    \u001b[0m | \u001b[36mheptracktool.tools.sparcification_study\u001b[0m:\u001b[36m__init__\u001b[0m:\u001b[36m42\u001b[0m - \u001b[1mKNN radius: 0.12\u001b[0m\n"
     ]
    }
   ],
   "source": [
    "ckpt_name = '/global/cfs/cdirs/m3443/data/GNN4ITK/AcornModels/MetricLearning/best-26489255-f1=0.010138-epoch=479.ckpt'\n",
    "study = SparcifyStudy(ckpt_name, reader, kval=1000, rval=0.12)"
   ]
  },
  {
   "cell_type": "code",
   "execution_count": 11,
   "metadata": {},
   "outputs": [
    {
     "name": "stdout",
     "output_type": "stream",
     "text": [
      "Input PyG: /global/cfs/cdirs/m3443/usr/xju/graph_sparcification/chep2024_data_feature_store/event000006800-graph.pyg\n"
     ]
    }
   ],
   "source": [
    "input_pyg = reader.pyg_files[0]\n",
    "print(f\"Input PyG: {input_pyg}\")\n",
    "sparse_matrix = study.build_knn_graph(input_pyg)"
   ]
  },
  {
   "cell_type": "code",
   "execution_count": 12,
   "metadata": {},
   "outputs": [
    {
     "name": "stdout",
     "output_type": "stream",
     "text": [
      "Output sparse matrix: /global/cfs/cdirs/m3443/usr/xju/graph_sparcification/chep2024_data_feature_store/event000006800-graph.mtx\n",
      "# of edges: 4,650,364\n"
     ]
    }
   ],
   "source": [
    "outfilename = str(input_pyg).replace(\"pyg\", \"mtx\")\n",
    "print(f\"Output sparse matrix: {outfilename}\")\n",
    "print(f\"# of edges: {sparse_matrix.nnz:,}\")\n",
    "study.save_sparse_matrix(sparse_matrix, outfilename)\n"
   ]
  },
  {
   "cell_type": "code",
   "execution_count": 17,
   "metadata": {},
   "outputs": [
    {
     "name": "stdout",
     "output_type": "stream",
     "text": [
      "Number of edges: 4,650,364\n"
     ]
    },
    {
     "name": "stderr",
     "output_type": "stream",
     "text": [
      "\u001b[32m2025-03-10 23:53:36.569\u001b[0m | \u001b[1mINFO    \u001b[0m | \u001b[36mheptracktool.tools.edge_perf\u001b[0m:\u001b[36meval\u001b[0m:\u001b[36m9\u001b[0m - \u001b[1mTrue Reco Edges 61,354, True Edges 106,357, Per-edge efficiency: 57.687%\u001b[0m\n",
      "\u001b[32m2025-03-10 23:53:36.570\u001b[0m | \u001b[1mINFO    \u001b[0m | \u001b[36mheptracktool.tools.edge_perf\u001b[0m:\u001b[36meval\u001b[0m:\u001b[36m12\u001b[0m - \u001b[1mTrue Edges 106,357, Reco Edges 4,650,364, Per-edge purity: 2.287%\u001b[0m\n",
      "\u001b[32m2025-03-10 23:53:48.152\u001b[0m | \u001b[1mINFO    \u001b[0m | \u001b[36mheptracktool.tools.edge_perf\u001b[0m:\u001b[36meval\u001b[0m:\u001b[36m20\u001b[0m - \u001b[1mOnly 10.47% of true edges are of interests (signal)\u001b[0m\n",
      "\u001b[32m2025-03-10 23:53:48.153\u001b[0m | \u001b[1mINFO    \u001b[0m | \u001b[36mheptracktool.tools.edge_perf\u001b[0m:\u001b[36meval\u001b[0m:\u001b[36m21\u001b[0m - \u001b[1mTrue Reco Signal Edges 9,060, True Signal Edges 11,131, Per-edge signal efficiency: 81.394%\u001b[0m\n"
     ]
    }
   ],
   "source": [
    "eval_result = study.eval_sparcification(sparse_matrix)"
   ]
  },
  {
   "cell_type": "code",
   "execution_count": 19,
   "metadata": {},
   "outputs": [
    {
     "name": "stdout",
     "output_type": "stream",
     "text": [
      "Number of edges: 9,300,728\n"
     ]
    },
    {
     "name": "stderr",
     "output_type": "stream",
     "text": [
      "\u001b[32m2025-03-10 23:56:14.369\u001b[0m | \u001b[1mINFO    \u001b[0m | \u001b[36mheptracktool.tools.edge_perf\u001b[0m:\u001b[36meval\u001b[0m:\u001b[36m10\u001b[0m - \u001b[1mTrue Reco Edges 155,742, True Edges 212,714, Per-edge efficiency: 73.217%\u001b[0m\n",
      "\u001b[32m2025-03-10 23:56:14.371\u001b[0m | \u001b[1mINFO    \u001b[0m | \u001b[36mheptracktool.tools.edge_perf\u001b[0m:\u001b[36meval\u001b[0m:\u001b[36m13\u001b[0m - \u001b[1mTrue Edges 212,714, Reco Edges 9,300,728, Per-edge purity: 2.287%\u001b[0m\n",
      "\u001b[32m2025-03-10 23:56:38.020\u001b[0m | \u001b[1mINFO    \u001b[0m | \u001b[36mheptracktool.tools.edge_perf\u001b[0m:\u001b[36meval\u001b[0m:\u001b[36m22\u001b[0m - \u001b[1mOnly 10.47% of true edges are of interests (signal)\u001b[0m\n",
      "\u001b[32m2025-03-10 23:56:38.033\u001b[0m | \u001b[1mINFO    \u001b[0m | \u001b[36mheptracktool.tools.edge_perf\u001b[0m:\u001b[36meval\u001b[0m:\u001b[36m23\u001b[0m - \u001b[1mTrue Reco Signal Edges 22,224, True Signal Edges 22,262, Per-edge signal efficiency: 99.829%\u001b[0m\n"
     ]
    }
   ],
   "source": [
    "eval_result = study.eval_sparcification(sparse_matrix)"
   ]
  },
  {
   "cell_type": "code",
   "execution_count": 14,
   "metadata": {},
   "outputs": [
    {
     "data": {
      "text/plain": [
       "tensor([ 338.4827, 1834.4453,  392.2282,  ...,  531.9106,  182.8401,\n",
       "         372.8299], dtype=torch.float64)"
      ]
     },
     "execution_count": 14,
     "metadata": {},
     "output_type": "execute_result"
    }
   ],
   "source": [
    "study.reader.data.pt"
   ]
  },
  {
   "cell_type": "code",
   "execution_count": null,
   "metadata": {},
   "outputs": [],
   "source": []
  }
 ],
 "metadata": {
  "kernelspec": {
   "display_name": ".venv",
   "language": "python",
   "name": "python3"
  },
  "language_info": {
   "codemirror_mode": {
    "name": "ipython",
    "version": 3
   },
   "file_extension": ".py",
   "mimetype": "text/x-python",
   "name": "python",
   "nbconvert_exporter": "python",
   "pygments_lexer": "ipython3",
   "version": "3.11.7"
  }
 },
 "nbformat": 4,
 "nbformat_minor": 2
}
